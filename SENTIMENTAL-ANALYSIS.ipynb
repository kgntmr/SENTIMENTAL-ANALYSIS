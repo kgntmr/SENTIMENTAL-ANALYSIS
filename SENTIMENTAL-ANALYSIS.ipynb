{
 "cells": [
  {
   "cell_type": "markdown",
   "metadata": {},
   "source": [
    "## SENTIMENTAL ANALYSIS\n",
    "- I will perform sentiment analysis on data obtained from the Reddit API, specifically focusing on discussions related to homelessness in Ireland. The goal is to gain insights into the housing needs in the country.\n",
    "- For this analysis, I have chosen to utilize two libraries: TextBlob and NLTK. The inclusion of both libraries allows for a comparison of the results obtained through sentimental analysis. While TextBlob provides a simplified and user-friendly interface, NLTK offers greater flexibility and customization options.\n",
    "- The NLTK library, provides a comprehensive toolkit for various natural language processing (NLP) tasks.\n",
    "- NLTK provides finer control over tokenization and stemming, while TextBlob offers a straightforward and accessible solution primarily focused on sentiment analysis."
   ]
  },
  {
   "cell_type": "markdown",
   "metadata": {},
   "source": [
    "# Install praw if you don't have in your environment\n",
    "#!pip install praw"
   ]
  },
  {
   "cell_type": "code",
   "execution_count": 1,
   "metadata": {},
   "outputs": [],
   "source": [
    "# Install nltk if you don't have in your environment\n",
    "# !pip install nltk"
   ]
  },
  {
   "cell_type": "code",
   "execution_count": 2,
   "metadata": {},
   "outputs": [
    {
     "name": "stderr",
     "output_type": "stream",
     "text": [
      "Version 7.7.0 of praw is outdated. Version 7.7.1 was released Tuesday July 11, 2023.\n"
     ]
    },
    {
     "name": "stdout",
     "output_type": "stream",
     "text": [
      "UN refugee agency says it is 'completely unpalatable' that asylum seekers are homeless in Ireland\n",
      "A Searing, Claustrophobic Portrait of Family Homelessness in Ireland—’Rosie’, dir. Paddy Breathnach, 2018\n",
      "Ireland is no country if you’re young, creative or homeless\n",
      "FactCheck: Does Ireland really have a low rate of homelessness by international standards?\n",
      "Thousands (12,000-20,000 people) march in Dublin over housing & homeless crisis in Ireland\n",
      "Europe’s hotel occupancy rates drop by -61.6% to 26.3% during March 2020\n",
      "2020 Irish General Election [Megathread]\n",
      "Social Protection Expenditure in the EU Countries (% GDP, 2018)\n",
      "The State of the World’s Toilets\n",
      "Household expenditure on housing (housing, water, electricity, gas and other fuels) in the EU: In 2019, the share of household expenditure devoted to housing was largest in Finland (28.8%), Slovakia (28.4%) and Denmark (27.9%), lowest in Malta (12.3%), Lithuania (14.9%) and Cyprus (15.6%).\n",
      "Irish economy grew by 2.5% in second quarter of 2018\n",
      "Hungary's homeless ban: Campaigners slam 'policy of total evil' with temperatures set to fall\n",
      "The hidden statistics of Eurostat\n"
     ]
    }
   ],
   "source": [
    "import praw\n",
    "\n",
    "reddit = praw.Reddit(\n",
    "    client_id=\"Ra3jN6DnoznWvUpKbdu33g\",\n",
    "    client_secret=\"XdAPqOLQ2lA5YQxpMoS6ImbyehASYg\",\n",
    "    user_agent=\"my_unique_script by u/cctdublin\"\n",
    ")\n",
    "\n",
    "# I want to search for posts related to homelessness in Ireland in the r/europe subreddit\n",
    "hot_posts = reddit.subreddit('europe').search('homelessness Ireland', limit=100)\n",
    "for post in hot_posts:\n",
    "    print(post.title)\n"
   ]
  },
  {
   "cell_type": "code",
   "execution_count": 3,
   "metadata": {},
   "outputs": [],
   "source": [
    "# Install textblob if you don't have in your environment\n",
    "# !pip install textblob"
   ]
  },
  {
   "cell_type": "code",
   "execution_count": 4,
   "metadata": {},
   "outputs": [
    {
     "name": "stdout",
     "output_type": "stream",
     "text": [
      "Overall sentiment score: -0.07820512820512822\n"
     ]
    }
   ],
   "source": [
    "from textblob import TextBlob\n",
    "\n",
    "# List of the sentences\n",
    "sentences = [\n",
    "    \"UN refugee agency says it is 'completely unpalatable' that asylum seekers are homeless in Ireland\",\n",
    "    \"A Searing, Claustrophobic Portrait of Family Homelessness in Ireland—’Rosie’, dir. Paddy Breathnach, 2018\",\n",
    "    \"Ireland is no country if you’re young, creative or homeless\",\n",
    "    \"FactCheck: Does Ireland really have a low rate of homelessness by international standards?\",\n",
    "    \"Thousands (12,000-20,000 people) march in Dublin over housing & homeless crisis in Ireland\",\n",
    "    \"Europe’s hotel occupancy rates drop by -61.6% to 26.3% during March 2020\",\n",
    "    \"2020 Irish General Election [Megathread]\",\n",
    "    \"Social Protection Expenditure in the EU Countries (% GDP, 2018)\",\n",
    "    \"The State of the World’s Toilets\",\n",
    "    \"Household expenditure on housing (housing, water, electricity, gas and other fuels) in the EU: In 2019, the share of household expenditure devoted to housing was largest in Finland (28.8%), Slovakia (28.4%) and Denmark (27.9%), lowest in Malta (12.3%), Lithuania (14.9%) and Cyprus (15.6%).\",\n",
    "    \"Irish economy grew by 2.5% in second quarter of 2018\",\n",
    "    \"Hungary's homeless ban: Campaigners slam 'policy of total evil' with temperatures set to fall\",\n",
    "    \"The hidden statistics of Eurostat\"\n",
    "]\n",
    "\n",
    "\n",
    "# Initialize variables\n",
    "total_sentiment = 0.0\n",
    "num_sentences = len(sentences)\n",
    "\n",
    "# Calculate sentiment for each sentence\n",
    "for sentence in sentences:\n",
    "    sentiment = TextBlob(sentence).sentiment.polarity\n",
    "    total_sentiment += sentiment\n",
    "\n",
    "# Calculate the overall sentiment score\n",
    "overall_sentiment = total_sentiment / num_sentences\n",
    "\n",
    "print(f\"Overall sentiment score: {overall_sentiment}\")"
   ]
  },
  {
   "cell_type": "markdown",
   "metadata": {},
   "source": [
    "- According to the overall sentiment score in TextBlob is approximately -0.0782. The score suggests a slightly negative sentiment overall."
   ]
  },
  {
   "cell_type": "code",
   "execution_count": 6,
   "metadata": {},
   "outputs": [],
   "source": [
    "# Install nltk if you don't have in your environment\n",
    "# !pip install nltk\n",
    "# nltk.download('punkt')\n",
    "# nltk.download('vader_lexicon')"
   ]
  },
  {
   "cell_type": "code",
   "execution_count": 7,
   "metadata": {},
   "outputs": [
    {
     "name": "stdout",
     "output_type": "stream",
     "text": [
      "Overall sentiment score: -0.11186923076923076\n"
     ]
    }
   ],
   "source": [
    "import nltk\n",
    "from nltk.sentiment import SentimentIntensityAnalyzer\n",
    "from nltk.tokenize import word_tokenize\n",
    "from nltk.stem import SnowballStemmer\n",
    "\n",
    "# List of the sentences\n",
    "sentences = [\n",
    "    \"UN refugee agency says it is 'completely unpalatable' that asylum seekers are homeless in Ireland\",\n",
    "    \"A Searing, Claustrophobic Portrait of Family Homelessness in Ireland—’Rosie’, dir. Paddy Breathnach, 2018\",\n",
    "    \"Ireland is no country if you’re young, creative or homeless\",\n",
    "    \"FactCheck: Does Ireland really have a low rate of homelessness by international standards?\",\n",
    "    \"Thousands (12,000-20,000 people) march in Dublin over housing & homeless crisis in Ireland\",\n",
    "    \"Europe’s hotel occupancy rates drop by -61.6% to 26.3% during March 2020\",\n",
    "    \"2020 Irish General Election [Megathread]\",\n",
    "    \"Social Protection Expenditure in the EU Countries (% GDP, 2018)\",\n",
    "    \"The State of the World’s Toilets\",\n",
    "    \"Household expenditure on housing (housing, water, electricity, gas and other fuels) in the EU: In 2019, the share of household expenditure devoted to housing was largest in Finland (28.8%), Slovakia (28.4%) and Denmark (27.9%), lowest in Malta (12.3%), Lithuania (14.9%) and Cyprus (15.6%).\",\n",
    "    \"Irish economy grew by 2.5% in second quarter of 2018\",\n",
    "    \"Hungary's homeless ban: Campaigners slam 'policy of total evil' with temperatures set to fall\",\n",
    "    \"The hidden statistics of Eurostat\"\n",
    "]\n",
    "\n",
    "# Initialize variables\n",
    "total_sentiment = 0.0\n",
    "num_sentences = len(sentences)\n",
    "\n",
    "# Initialize NLTK components\n",
    "stemmer = SnowballStemmer(\"english\")\n",
    "sid = SentimentIntensityAnalyzer()\n",
    "\n",
    "# Calculate sentiment for each sentence\n",
    "for sentence in sentences:\n",
    "    # Tokenize the sentence\n",
    "    tokens = word_tokenize(sentence)\n",
    "\n",
    "    # Apply stemming to the tokens\n",
    "    stemmed_tokens = [stemmer.stem(token) for token in tokens]\n",
    "\n",
    "    # Join the stemmed tokens back into a sentence\n",
    "    stemmed_sentence = \" \".join(stemmed_tokens)\n",
    "\n",
    "    # Calculate sentiment polarity using NLTK's SentimentIntensityAnalyzer\n",
    "    sentiment = sid.polarity_scores(stemmed_sentence)[\"compound\"]\n",
    "    total_sentiment += sentiment\n",
    "\n",
    "# Calculate the overall sentiment score\n",
    "overall_sentiment = total_sentiment / num_sentences\n",
    "\n",
    "print(f\"Overall sentiment score: {overall_sentiment}\")\n"
   ]
  },
  {
   "cell_type": "markdown",
   "metadata": {},
   "source": [
    "- The NLTK analysis indicates an overall sentiment score of around -0.1118, which implies a slightly negative sentiment.\n",
    "- The slight difference in the overall sentiment score can be attributed to the limited amount of text available for analysis."
   ]
  },
  {
   "cell_type": "markdown",
   "metadata": {},
   "source": []
  }
 ],
 "metadata": {
  "kernelspec": {
   "display_name": "Python 3",
   "language": "python",
   "name": "python3"
  },
  "language_info": {
   "codemirror_mode": {
    "name": "ipython",
    "version": 3
   },
   "file_extension": ".py",
   "mimetype": "text/x-python",
   "name": "python",
   "nbconvert_exporter": "python",
   "pygments_lexer": "ipython3",
   "version": "3.9.13"
  },
  "orig_nbformat": 4
 },
 "nbformat": 4,
 "nbformat_minor": 2
}
